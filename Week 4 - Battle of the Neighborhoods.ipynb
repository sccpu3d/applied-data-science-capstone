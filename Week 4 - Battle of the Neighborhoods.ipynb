{
 "cells": [
  {
   "cell_type": "markdown",
   "metadata": {
    "collapsed": true
   },
   "source": [
    "# Battle of the Neighborhoods"
   ]
  },
  {
   "cell_type": "markdown",
   "metadata": {},
   "source": [
    "## Introduction / Business Problem"
   ]
  },
  {
   "cell_type": "markdown",
   "metadata": {},
   "source": [
    "### Problem Background"
   ]
  },
  {
   "cell_type": "raw",
   "metadata": {},
   "source": [
    "In the US, hospitals, urgent care facilities, and private health clinic growth has surged in the past few years leading to an increase in demand for medical device cleaning. Due to the increase in healthcare sevices, recent market research has indictated that the medical device cleaning industry is expected to grow to USD $15.9 billion by 2025, representing a CAGR of 6.3% annually from 2018-2025. \n",
    "\n",
    "In order to meet this demand, professional cleaning services provider XYZ Cleaning is interested in opening a new medical device cleaning facility in Orange County, California. The new facility will be equipped specialized tools, equipment and personnel training capabilities for medical device cleaning. As such, it will need to be in close proximity to as many hospitals, urgent care facilities, and private health clinics as possible in order to capture the maximum amount of business. "
   ]
  },
  {
   "cell_type": "markdown",
   "metadata": {},
   "source": [
    "## Data"
   ]
  },
  {
   "cell_type": "raw",
   "metadata": {},
   "source": [
    "The data that will be used is business and location data from Foursquare's developer API as well as city data from Enjoy OC. Locations for hospitals, clinics, and urgent care facilities will be aggregated and clustered to provide us with a recommendation for XYZ Cleaning on the ideal location for XYZ Cleaning's new facility. "
   ]
  },
  {
   "cell_type": "code",
   "execution_count": null,
   "metadata": {},
   "outputs": [],
   "source": []
  }
 ],
 "metadata": {
  "kernelspec": {
   "display_name": "Python 3",
   "language": "python",
   "name": "python3"
  },
  "language_info": {
   "codemirror_mode": {
    "name": "ipython",
    "version": 2
   },
   "file_extension": ".py",
   "mimetype": "text/ x - python",
   "name": "python",
   "nbconvert_exporter": "python",
   "pygments_lexer": "ipython2",
   "version": "3.5.1"
  }
 },
 "nbformat": 4,
 "nbformat_minor": 2
}
